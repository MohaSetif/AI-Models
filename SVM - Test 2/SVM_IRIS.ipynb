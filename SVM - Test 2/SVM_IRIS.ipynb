{
 "cells": [
  {
   "cell_type": "code",
   "execution_count": 20,
   "metadata": {},
   "outputs": [
    {
     "name": "stdout",
     "output_type": "stream",
     "text": [
      "Score: 0.8\n",
      "Score: 0.92\n"
     ]
    },
    {
     "name": "stderr",
     "output_type": "stream",
     "text": [
      "C:\\Users\\VivoBook\\AppData\\Roaming\\Python\\Python312\\site-packages\\sklearn\\svm\\_classes.py:31: FutureWarning: The default value of `dual` will change from `True` to `'auto'` in 1.5. Set the value of `dual` explicitly to suppress the warning.\n",
      "  warnings.warn(\n",
      "C:\\Users\\VivoBook\\AppData\\Roaming\\Python\\Python312\\site-packages\\sklearn\\svm\\_base.py:1237: ConvergenceWarning: Liblinear failed to converge, increase the number of iterations.\n",
      "  warnings.warn(\n",
      "C:\\Users\\VivoBook\\AppData\\Roaming\\Python\\Python312\\site-packages\\sklearn\\svm\\_classes.py:31: FutureWarning: The default value of `dual` will change from `True` to `'auto'` in 1.5. Set the value of `dual` explicitly to suppress the warning.\n",
      "  warnings.warn(\n",
      "C:\\Users\\VivoBook\\AppData\\Roaming\\Python\\Python312\\site-packages\\sklearn\\svm\\_base.py:1237: ConvergenceWarning: Liblinear failed to converge, increase the number of iterations.\n",
      "  warnings.warn(\n"
     ]
    }
   ],
   "source": [
    "import numpy as np\n",
    "import matplotlib.pyplot as plt\n",
    "from sklearn import svm, datasets\n",
    "from sklearn.model_selection import train_test_split\n",
    "# Chargement des données\n",
    "iris = datasets.load_iris()\n",
    "\n",
    "X, y = iris.data[:, :2], iris.target\n",
    "# On conserve 50% du jeu de données pour l'évaluation\n",
    "X_train, X_test, y_train, y_test = train_test_split(X, y, test_size=0.5)\n",
    "\n",
    "C = 1.0 # paramètre de régularisation\n",
    "lin_svc = svm.LinearSVC(C=C)\n",
    "lin_svc.fit(X_train, y_train)\n",
    "\n",
    "print(f\"Score: {lin_svc.score(X_test, y_test)}\")\n",
    "\n",
    "#==================================Using 4 attributes======================================\n",
    "\n",
    "X1, y1 = iris.data, iris.target\n",
    "# On conserve 50% du jeu de données pour l'évaluation\n",
    "X_train1, X_test1, y_train1, y_test1 = train_test_split(X1, y1, test_size=0.5)\n",
    "\n",
    "C1 = 1.0 # paramètre de régularisation\n",
    "lin_svc1 = svm.LinearSVC(C=C1)\n",
    "lin_svc1.fit(X_train1, y_train1)\n",
    "\n",
    "print(f\"Score: {lin_svc1.score(X_test1, y_test1)}\")\n",
    "\n",
    "#The score increase because the model trained on the four attributes making the learning more precised and subtle.\n",
    "\n"
   ]
  },
  {
   "cell_type": "code",
   "execution_count": 24,
   "metadata": {},
   "outputs": [
    {
     "name": "stderr",
     "output_type": "stream",
     "text": [
      "C:\\Users\\VivoBook\\AppData\\Roaming\\Python\\Python312\\site-packages\\sklearn\\svm\\_classes.py:31: FutureWarning: The default value of `dual` will change from `True` to `'auto'` in 1.5. Set the value of `dual` explicitly to suppress the warning.\n",
      "  warnings.warn(\n",
      "C:\\Users\\VivoBook\\AppData\\Roaming\\Python\\Python312\\site-packages\\sklearn\\svm\\_base.py:1237: ConvergenceWarning: Liblinear failed to converge, increase the number of iterations.\n",
      "  warnings.warn(\n",
      "C:\\Users\\VivoBook\\AppData\\Roaming\\Python\\Python312\\site-packages\\sklearn\\svm\\_classes.py:31: FutureWarning: The default value of `dual` will change from `True` to `'auto'` in 1.5. Set the value of `dual` explicitly to suppress the warning.\n",
      "  warnings.warn(\n"
     ]
    },
    {
     "name": "stdout",
     "output_type": "stream",
     "text": [
      "Score avec C=0.1 : 0.9583333333333334\n"
     ]
    },
    {
     "name": "stderr",
     "output_type": "stream",
     "text": [
      "C:\\Users\\VivoBook\\AppData\\Roaming\\Python\\Python312\\site-packages\\sklearn\\svm\\_base.py:1237: ConvergenceWarning: Liblinear failed to converge, increase the number of iterations.\n",
      "  warnings.warn(\n",
      "C:\\Users\\VivoBook\\AppData\\Roaming\\Python\\Python312\\site-packages\\sklearn\\svm\\_classes.py:31: FutureWarning: The default value of `dual` will change from `True` to `'auto'` in 1.5. Set the value of `dual` explicitly to suppress the warning.\n",
      "  warnings.warn(\n",
      "C:\\Users\\VivoBook\\AppData\\Roaming\\Python\\Python312\\site-packages\\sklearn\\svm\\_base.py:1237: ConvergenceWarning: Liblinear failed to converge, increase the number of iterations.\n",
      "  warnings.warn(\n",
      "C:\\Users\\VivoBook\\AppData\\Roaming\\Python\\Python312\\site-packages\\sklearn\\svm\\_classes.py:31: FutureWarning: The default value of `dual` will change from `True` to `'auto'` in 1.5. Set the value of `dual` explicitly to suppress the warning.\n",
      "  warnings.warn(\n"
     ]
    },
    {
     "name": "stdout",
     "output_type": "stream",
     "text": [
      "Score avec C=1 : 0.9388888888888889\n",
      "Score avec C=10 : 0.95\n",
      "Score avec C=100 : 0.9555555555555556\n"
     ]
    },
    {
     "name": "stderr",
     "output_type": "stream",
     "text": [
      "C:\\Users\\VivoBook\\AppData\\Roaming\\Python\\Python312\\site-packages\\sklearn\\svm\\_base.py:1237: ConvergenceWarning: Liblinear failed to converge, increase the number of iterations.\n",
      "  warnings.warn(\n"
     ]
    }
   ],
   "source": [
    "from sklearn import datasets\n",
    "\n",
    "digits = datasets.load_digits()\n",
    "X_digits, y_digits = digits.data, digits.target\n",
    "\n",
    "X_train, X_test, y_train, y_test = train_test_split(X_digits, y_digits, test_size=0.2)\n",
    "\n",
    "for C in [0.1, 1, 10, 100]:\n",
    "    lin_svc = svm.LinearSVC(C=C)\n",
    "    lin_svc.fit(X_train, y_train)\n",
    "    score = lin_svc.score(X_test, y_test)\n",
    "    print(f\"Score avec C={C} : {score}\")\n",
    "\n",
    "#Best C value is 0.1."
   ]
  },
  {
   "cell_type": "code",
   "execution_count": 23,
   "metadata": {},
   "outputs": [
    {
     "name": "stdout",
     "output_type": "stream",
     "text": [
      "Gamma score=0.1, C=0.1 : 0.08333333333333333\n",
      "Gamma score=0.1, C=1 : 0.08333333333333333\n",
      "Gamma score=0.1, C=10 : 0.08333333333333333\n",
      "Gamma score=1, C=0.1 : 0.08333333333333333\n",
      "Gamma score=1, C=1 : 0.08333333333333333\n",
      "Gamma score=1, C=10 : 0.08333333333333333\n",
      "Gamma score=10, C=0.1 : 0.08333333333333333\n",
      "Gamma score=10, C=1 : 0.08333333333333333\n",
      "Gamma score=10, C=10 : 0.08333333333333333\n"
     ]
    }
   ],
   "source": [
    "from sklearn.svm import SVC\n",
    "\n",
    "for gamma in [0.1, 1, 10]:\n",
    "    for C in [0.1, 1, 10]:\n",
    "        svm_clf = SVC(kernel='rbf', gamma=gamma, C=C)\n",
    "        svm_clf.fit(X_train, y_train)\n",
    "        score = svm_clf.score(X_test, y_test)\n",
    "        print(f\"Gamma score={gamma}, C={C} : {score}\")"
   ]
  }
 ],
 "metadata": {
  "kernelspec": {
   "display_name": "Python 3",
   "language": "python",
   "name": "python3"
  },
  "language_info": {
   "codemirror_mode": {
    "name": "ipython",
    "version": 3
   },
   "file_extension": ".py",
   "mimetype": "text/x-python",
   "name": "python",
   "nbconvert_exporter": "python",
   "pygments_lexer": "ipython3",
   "version": "3.12.0"
  }
 },
 "nbformat": 4,
 "nbformat_minor": 2
}
