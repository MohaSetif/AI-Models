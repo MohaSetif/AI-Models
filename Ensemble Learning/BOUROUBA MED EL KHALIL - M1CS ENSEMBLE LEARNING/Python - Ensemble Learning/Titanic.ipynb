{
 "cells": [
  {
   "cell_type": "code",
   "execution_count": 5,
   "metadata": {},
   "outputs": [
    {
     "name": "stdout",
     "output_type": "stream",
     "text": [
      "   Passenger ID  TicketClass  Survived                              Name  \\\n",
      "0           848            3         0               Abbing, Mr. Anthony   \n",
      "1            97            3         0     Abbott, Master. Eugene Joseph   \n",
      "2           121            3         0       Abbott, Mr. Rossmore Edward   \n",
      "3           717            3         1  Abbott, Mrs. Stanton (Rosa Hunt)   \n",
      "4           122            3         1       Abelseth, Miss. Karen Marie   \n",
      "\n",
      "   Gender   Age  Sibsp  Parch     Ticket   Fare Cabin Embarked  \\\n",
      "0    Male  42.0      0      0  C.A. 5547   7.55  None        S   \n",
      "1    Male  13.0      0      2  C.A. 2673  20.25  None        S   \n",
      "2    Male  16.0      1      1  C.A. 2673  20.25  None        S   \n",
      "3  Female  35.0      1      1  C.A. 2673  20.25  None        S   \n",
      "4  Female  16.0      0      0     348125   7.65  None        S   \n",
      "\n",
      "          HomeDestination  \n",
      "0                    None  \n",
      "1     East Providence, RI  \n",
      "2     East Providence, RI  \n",
      "3     East Providence, RI  \n",
      "4  Norway Los Angeles, CA  \n"
     ]
    }
   ],
   "source": [
    "import pandas as pd\n",
    "import seaborn as sns\n",
    "import matplotlib.pyplot as plt\n",
    "import openpyxl as pxl\n",
    "\n",
    "titanic_data = pxl.load_workbook('Titanic-Passenger-Data.xlsx')\n",
    "\n",
    "worksheet = titanic_data.active\n",
    "\n",
    "data = []\n",
    "for row in worksheet.iter_rows(values_only=True):\n",
    "    data.append(row)\n",
    "\n",
    "df = pd.DataFrame(data[1:], columns=data[0])\n",
    "\n",
    "print(df.head())"
   ]
  },
  {
   "cell_type": "code",
   "execution_count": 6,
   "metadata": {},
   "outputs": [
    {
     "name": "stdout",
     "output_type": "stream",
     "text": [
      "   Passenger ID  TicketClass  Survived                              Name  \\\n",
      "0           848            3         0               Abbing, Mr. Anthony   \n",
      "1            97            3         0     Abbott, Master. Eugene Joseph   \n",
      "2           121            3         0       Abbott, Mr. Rossmore Edward   \n",
      "3           717            3         1  Abbott, Mrs. Stanton (Rosa Hunt)   \n",
      "4           122            3         1       Abelseth, Miss. Karen Marie   \n",
      "\n",
      "   Gender   Age  Sibsp  Parch     Ticket   Fare Cabin  Embarked  \\\n",
      "0       1  42.0      0      0  C.A. 5547   7.55  None         2   \n",
      "1       1  13.0      0      2  C.A. 2673  20.25  None         2   \n",
      "2       1  16.0      1      1  C.A. 2673  20.25  None         2   \n",
      "3       0  35.0      1      1  C.A. 2673  20.25  None         2   \n",
      "4       0  16.0      0      0     348125   7.65  None         2   \n",
      "\n",
      "          HomeDestination  \n",
      "0                    None  \n",
      "1     East Providence, RI  \n",
      "2     East Providence, RI  \n",
      "3     East Providence, RI  \n",
      "4  Norway Los Angeles, CA  \n",
      "Random Forest's accuracy with the titanic dataset: 0.8015267175572519\n"
     ]
    }
   ],
   "source": [
    "from sklearn.ensemble import RandomForestClassifier\n",
    "from sklearn.model_selection import train_test_split\n",
    "from sklearn.preprocessing import LabelEncoder\n",
    "\n",
    "le_gender = LabelEncoder()\n",
    "gender = le_gender.fit_transform(df['Gender'])\n",
    "df['Gender'] = gender\n",
    "\n",
    "le_embarked = LabelEncoder()\n",
    "embarked = le_embarked.fit_transform(df['Embarked'])\n",
    "df['Embarked'] = embarked\n",
    "\n",
    "X = df.drop(['Survived', 'Name', 'Ticket', 'HomeDestination', 'Cabin'], axis=1)\n",
    "y = df['Survived']\n",
    "print(df.head())\n",
    "\n",
    "X_train, X_test, y_train, y_test = train_test_split(X, y, test_size=0.2, random_state=42)\n",
    "\n",
    "rf = RandomForestClassifier(n_estimators=100, random_state=42)\n",
    "rf.fit(X_train, y_train)\n",
    "\n",
    "accuracy = rf.score(X_test, y_test)\n",
    "print(f\"Random Forest's accuracy with the titanic dataset: {accuracy}\")"
   ]
  }
 ],
 "metadata": {
  "kernelspec": {
   "display_name": "Python 3",
   "language": "python",
   "name": "python3"
  },
  "language_info": {
   "codemirror_mode": {
    "name": "ipython",
    "version": 3
   },
   "file_extension": ".py",
   "mimetype": "text/x-python",
   "name": "python",
   "nbconvert_exporter": "python",
   "pygments_lexer": "ipython3",
   "version": "3.12.0"
  }
 },
 "nbformat": 4,
 "nbformat_minor": 2
}
