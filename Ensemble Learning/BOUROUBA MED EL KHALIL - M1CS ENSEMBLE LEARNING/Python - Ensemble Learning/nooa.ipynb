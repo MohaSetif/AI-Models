{
 "cells": [
  {
   "cell_type": "code",
   "execution_count": 3,
   "metadata": {},
   "outputs": [
    {
     "name": "stdout",
     "output_type": "stream",
     "text": [
      "Baseline MSE: 46.88830459770115, Baseline MAE: 4.933045977011494\n",
      "Random Forest MSE: 25.87384428571429, Random Forest MAE: 3.8281428571428577\n"
     ]
    }
   ],
   "source": [
    "import pandas as pd\n",
    "from sklearn.ensemble import RandomForestRegressor\n",
    "from sklearn.model_selection import train_test_split\n",
    "from sklearn.metrics import mean_squared_error, mean_absolute_error\n",
    "\n",
    "#1. Charger les données dans un format accessible\n",
    "data = pd.read_csv('nooa.csv')\n",
    "\n",
    "#2. Identifier et corriger les données manquantes (ou anomalies) selon les besoins\n",
    "data = data.dropna()\n",
    "\n",
    "#3. Préparer les données pour le modèle d'apprentissage automatique\n",
    "X = data.drop(['actual', 'week'], axis=1)\n",
    "y = data['actual']\n",
    "\n",
    "#4. Établissez un modèle de base que vous souhaitez dépasser\n",
    "baseline_preds = data['average']\n",
    "baseline_mse = mean_squared_error(y, baseline_preds)\n",
    "baseline_mae = mean_absolute_error(y, baseline_preds)\n",
    "print(f\"Baseline MSE: {baseline_mse}, Baseline MAE: {baseline_mae}\")\n",
    "\n",
    "#5. Former le modèle sur les données d'entraînement (Random Forest)\n",
    "X_train, X_test, y_train, y_test = train_test_split(X, y, test_size=0.2, random_state=42)\n",
    "rf_model = RandomForestRegressor(n_estimators=100, random_state=42)\n",
    "rf_model.fit(X_train, y_train)\n",
    "\n",
    "#6. Faire des prédictions sur les données de test\n",
    "y_pred = rf_model.predict(X_test)\n",
    "\n",
    "#7. Comparer les prévisions aux cibles de jeux de tests connues et calculer les mesures de performance\n",
    "mse = mean_squared_error(y_test, y_pred)\n",
    "mae = mean_absolute_error(y_test, y_pred)\n",
    "print(f\"Random Forest MSE: {mse}, Random Forest MAE: {mae}\")"
   ]
  }
 ],
 "metadata": {
  "kernelspec": {
   "display_name": "Python 3",
   "language": "python",
   "name": "python3"
  },
  "language_info": {
   "codemirror_mode": {
    "name": "ipython",
    "version": 3
   },
   "file_extension": ".py",
   "mimetype": "text/x-python",
   "name": "python",
   "nbconvert_exporter": "python",
   "pygments_lexer": "ipython3",
   "version": "3.12.0"
  }
 },
 "nbformat": 4,
 "nbformat_minor": 2
}
