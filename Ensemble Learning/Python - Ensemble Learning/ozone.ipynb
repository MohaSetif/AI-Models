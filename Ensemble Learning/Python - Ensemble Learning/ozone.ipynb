{
 "cells": [
  {
   "cell_type": "code",
   "execution_count": 1,
   "metadata": {},
   "outputs": [
    {
     "name": "stderr",
     "output_type": "stream",
     "text": [
      "C:\\Users\\VivoBook\\AppData\\Local\\Temp\\ipykernel_14136\\4005138639.py:1: DeprecationWarning: \n",
      "Pyarrow will become a required dependency of pandas in the next major release of pandas (pandas 3.0),\n",
      "(to allow more performant data types, such as the Arrow string type, and better interoperability with other libraries)\n",
      "but was not found to be installed on your system.\n",
      "If this would cause problems for you,\n",
      "please provide us feedback at https://github.com/pandas-dev/pandas/issues/54466\n",
      "        \n",
      "  import pandas as pd\n"
     ]
    },
    {
     "name": "stdout",
     "output_type": "stream",
     "text": [
      "Bagging : MSE = 0.044892110453648916 R² = 0.26227642884541624\n",
      "Boosting : MSE = 0.047871732074497915 R² = 0.21331154212903636\n",
      "Random Forest : MSE = 0.04493096646942801 R² = 0.261637897967012\n"
     ]
    }
   ],
   "source": [
    "import pandas as pd\n",
    "from sklearn.model_selection import train_test_split\n",
    "from sklearn.ensemble import BaggingRegressor, GradientBoostingRegressor, RandomForestRegressor\n",
    "from sklearn.tree import DecisionTreeRegressor\n",
    "from sklearn.metrics import mean_squared_error, r2_score\n",
    "\n",
    "#Charger les données\n",
    "ozone_data = pd.read_csv('ozone.csv')\n",
    "\n",
    "#Préparer les données\n",
    "X = ozone_data.drop('Class', axis=1)\n",
    "y = ozone_data['Class']\n",
    "X_train, X_test, y_train, y_test = train_test_split(X, y, test_size=0.2, random_state=42)\n",
    "\n",
    "#Bagging\n",
    "base_estimator = DecisionTreeRegressor()\n",
    "bagging = BaggingRegressor(estimator=base_estimator, n_estimators=100, random_state=42)\n",
    "bagging.fit(X_train, y_train)\n",
    "y_pred_bagging = bagging.predict(X_test)\n",
    "mse_bagging = mean_squared_error(y_test, y_pred_bagging)\n",
    "r2_bagging = r2_score(y_test, y_pred_bagging)\n",
    "\n",
    "#Boosting\n",
    "boosting = GradientBoostingRegressor(n_estimators=100, random_state=42)\n",
    "boosting.fit(X_train, y_train)\n",
    "y_pred_boosting = boosting.predict(X_test)\n",
    "mse_boosting = mean_squared_error(y_test, y_pred_boosting)\n",
    "r2_boosting = r2_score(y_test, y_pred_boosting)\n",
    "\n",
    "#Random Forest\n",
    "rf = RandomForestRegressor(n_estimators=100, random_state=42)\n",
    "rf.fit(X_train, y_train)\n",
    "y_pred_rf = rf.predict(X_test)\n",
    "mse_rf = mean_squared_error(y_test, y_pred_rf)\n",
    "r2_rf = r2_score(y_test, y_pred_rf)\n",
    "\n",
    "#Comparer les performances\n",
    "print(\"Bagging : MSE =\", mse_bagging, \"R² =\", r2_bagging)\n",
    "print(\"Boosting : MSE =\", mse_boosting, \"R² =\", r2_boosting)\n",
    "print(\"Random Forest : MSE =\", mse_rf, \"R² =\", r2_rf)"
   ]
  }
 ],
 "metadata": {
  "kernelspec": {
   "display_name": "Python 3",
   "language": "python",
   "name": "python3"
  },
  "language_info": {
   "codemirror_mode": {
    "name": "ipython",
    "version": 3
   },
   "file_extension": ".py",
   "mimetype": "text/x-python",
   "name": "python",
   "nbconvert_exporter": "python",
   "pygments_lexer": "ipython3",
   "version": "3.12.0"
  }
 },
 "nbformat": 4,
 "nbformat_minor": 2
}
