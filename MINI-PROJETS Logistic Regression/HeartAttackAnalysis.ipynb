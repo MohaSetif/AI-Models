{
 "cells": [
  {
   "cell_type": "code",
   "execution_count": 14,
   "metadata": {},
   "outputs": [
    {
     "name": "stdout",
     "output_type": "stream",
     "text": [
      "     age  sex  cp  trestbps  chol  fbs  restecg  thalach  exang  oldpeak  \\\n",
      "0     63    1   3       145   233    1        0      150      0      2.3   \n",
      "1     37    1   2       130   250    0        1      187      0      3.5   \n",
      "2     41    0   1       130   204    0        0      172      0      1.4   \n",
      "3     56    1   1       120   236    0        1      178      0      0.8   \n",
      "4     57    0   0       120   354    0        1      163      1      0.6   \n",
      "..   ...  ...  ..       ...   ...  ...      ...      ...    ...      ...   \n",
      "298   57    0   0       140   241    0        1      123      1      0.2   \n",
      "299   45    1   3       110   264    0        1      132      0      1.2   \n",
      "300   68    1   0       144   193    1        1      141      0      3.4   \n",
      "301   57    1   0       130   131    0        1      115      1      1.2   \n",
      "302   57    0   1       130   236    0        0      174      0      0.0   \n",
      "\n",
      "     slope  ca  thal  target  \n",
      "0        0   0     1       1  \n",
      "1        0   0     2       1  \n",
      "2        2   0     2       1  \n",
      "3        2   0     2       1  \n",
      "4        2   0     2       1  \n",
      "..     ...  ..   ...     ...  \n",
      "298      1   0     3       0  \n",
      "299      1   0     3       0  \n",
      "300      1   2     3       0  \n",
      "301      1   1     3       0  \n",
      "302      1   1     2       0  \n",
      "\n",
      "[303 rows x 14 columns]\n",
      "0      1\n",
      "1      1\n",
      "2      1\n",
      "3      1\n",
      "4      1\n",
      "      ..\n",
      "298    0\n",
      "299    0\n",
      "300    0\n",
      "301    0\n",
      "302    0\n",
      "Name: target, Length: 303, dtype: int64\n",
      "1.0\n",
      "[1]\n",
      "1.0\n",
      "[1]\n",
      "Accuracy (Entropie): 1.0\n",
      "Accuracy (Gini): 1.0\n"
     ]
    },
    {
     "name": "stderr",
     "output_type": "stream",
     "text": [
      "C:\\Users\\VivoBook\\AppData\\Roaming\\Python\\Python312\\site-packages\\sklearn\\base.py:493: UserWarning: X does not have valid feature names, but DecisionTreeClassifier was fitted with feature names\n",
      "  warnings.warn(\n",
      "C:\\Users\\VivoBook\\AppData\\Roaming\\Python\\Python312\\site-packages\\sklearn\\base.py:493: UserWarning: X does not have valid feature names, but DecisionTreeClassifier was fitted with feature names\n",
      "  warnings.warn(\n"
     ]
    },
    {
     "data": {
      "text/plain": [
       "'decision_tree_gini.pdf'"
      ]
     },
     "execution_count": 14,
     "metadata": {},
     "output_type": "execute_result"
    }
   ],
   "source": [
    "import pandas as pd\n",
    "\n",
    "data = pd.read_csv('heart.csv')\n",
    "\n",
    "print(data)\n",
    "\n",
    "classes = data.drop('target', axis='columns')\n",
    "target = data['target']\n",
    "\n",
    "print(target)\n",
    "\n",
    "from sklearn.tree import DecisionTreeClassifier\n",
    "model_entropy = DecisionTreeClassifier(criterion='entropy')\n",
    "model_entropy.fit(classes, target)\n",
    "print(model_entropy.score(classes, target))\n",
    "#sepal_length,sepal_width,petal_length,petal_width,species\n",
    "print(model_entropy.predict([['57','1','0','140','192','0','1','148','0','0.4','1','0','1']]))\n",
    "\n",
    "\n",
    "model_gini = DecisionTreeClassifier(criterion='gini')\n",
    "model_gini.fit(classes, target)\n",
    "print(model_gini.score(classes, target))\n",
    "#sepal_length,sepal_width,petal_length,petal_width,species\n",
    "print(model_gini.predict([['57','1','0','140','192','0','1','148','0','0.4','1','0','1']]))\n",
    "\n",
    "from sklearn.metrics import accuracy_score\n",
    "print(\"Accuracy (Entropie):\", accuracy_score(data['target'], model_gini.predict(classes)))\n",
    "print(\"Accuracy (Gini):\", accuracy_score(data['target'], model_gini.predict(classes)))\n",
    "\n",
    "import graphviz\n",
    "from sklearn.tree import export_graphviz\n",
    "dot_data = export_graphviz(model_entropy, out_file=None, class_names=['Low', 'High'],\n",
    "                           filled=True, rounded=True, special_characters=True)\n",
    "graph = graphviz.Source(dot_data)\n",
    "graph.render(\"decision_tree_entropy\")\n",
    "\n",
    "\n",
    "dot_data = export_graphviz(model_gini, out_file=None, class_names=['Low', 'High'],\n",
    "                           filled=True, rounded=True, special_characters=True)\n",
    "graph = graphviz.Source(dot_data)\n",
    "graph.render(\"decision_tree_gini\")"
   ]
  }
 ],
 "metadata": {
  "kernelspec": {
   "display_name": "Python 3",
   "language": "python",
   "name": "python3"
  },
  "language_info": {
   "codemirror_mode": {
    "name": "ipython",
    "version": 3
   },
   "file_extension": ".py",
   "mimetype": "text/x-python",
   "name": "python",
   "nbconvert_exporter": "python",
   "pygments_lexer": "ipython3",
   "version": "3.12.0"
  }
 },
 "nbformat": 4,
 "nbformat_minor": 2
}
