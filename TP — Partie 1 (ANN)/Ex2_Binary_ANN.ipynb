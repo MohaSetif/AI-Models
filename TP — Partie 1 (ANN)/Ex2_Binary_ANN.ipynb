{
 "cells": [
  {
   "cell_type": "code",
   "execution_count": 1,
   "metadata": {},
   "outputs": [],
   "source": [
    "# Importing the libraries\n",
    "import numpy as np\n",
    "import matplotlib.pyplot as plt\n",
    "import pandas as pd\n",
    "# Importing the dataset\n",
    "dataset = pd.read_csv('Churn_Modelling.csv')\n",
    "X = dataset.iloc[:, 3:13].values\n",
    "y = dataset.iloc[:, 13].values\n",
    "# Encoding categorical data\n",
    "from sklearn.preprocessing import LabelEncoder, OneHotEncoder\n",
    "from sklearn.compose import ColumnTransformer\n",
    "# Contry\n",
    "labelencoder_X_1 = LabelEncoder()\n",
    "X[:, 1] = labelencoder_X_1.fit_transform(X[:, 1])\n",
    "# Male/Female\n",
    "labelencoder_X_2 = LabelEncoder()\n",
    "X[:, 2] = labelencoder_X_2.fit_transform(X[:, 2])\n",
    "onehotencoder = ColumnTransformer([(\"Geography\", OneHotEncoder(), [1])], remainder =\n",
    "'passthrough')\n",
    "X = onehotencoder.fit_transform(X)\n",
    "X = X[:, 1:]\n",
    "# Splitting the dataset into the Training set and Test set\n",
    "from sklearn.model_selection import train_test_split\n",
    "X_train, X_test, y_train, y_test = train_test_split(X, y, test_size = 0.2,\n",
    "random_state = 0)\n",
    "# Feature Scaling\n",
    "from sklearn.preprocessing import StandardScaler\n",
    "sc = StandardScaler()\n",
    "X_train = sc.fit_transform(X_train)\n",
    "X_test = sc.transform(X_test)"
   ]
  },
  {
   "cell_type": "code",
   "execution_count": 2,
   "metadata": {},
   "outputs": [
    {
     "name": "stdout",
     "output_type": "stream",
     "text": [
      "0.83925 0.017474982117301287\n",
      "0.8455 0.021824584761227412\n"
     ]
    }
   ],
   "source": [
    "# Part 2 - Now let's make the ANN!\n",
    "# Importing the Keras libraries and packages\n",
    "\n",
    "import keras\n",
    "from keras.models import Sequential\n",
    "from keras.layers import Dense\n",
    "from keras.layers import Dropout\n",
    "# Initialising the ANN\n",
    "from scikeras.wrappers import KerasClassifier\n",
    "from sklearn.model_selection import cross_val_score\n",
    "from keras.models import Sequential\n",
    "from keras.layers import Dense\n",
    "# Building a function to construct an ANN\n",
    "def build_classifier():\n",
    " classifier = Sequential()\n",
    " classifier.add(Dense(units = 6, kernel_initializer = 'uniform', activation =\n",
    "'relu', input_dim = 11))\n",
    " classifier.add(Dense(units = 6, kernel_initializer = 'uniform', activation =\n",
    "'relu'))\n",
    " classifier.add(Dense(units = 1, kernel_initializer = 'uniform', activation =\n",
    "'sigmoid'))\n",
    " classifier.compile(optimizer = 'adam', loss = 'binary_crossentropy', metrics =\n",
    "['accuracy'])\n",
    " return classifier\n",
    "# calling the function\n",
    "classifier = KerasClassifier(build_fn = build_classifier, batch_size = 5, epochs =\n",
    "50)\n",
    "classifier1 = KerasClassifier(build_fn = build_classifier, batch_size = 10, epochs =\n",
    "100)\n",
    "accuracies = cross_val_score(estimator = classifier, X = X_train, y = y_train, cv =\n",
    "10, n_jobs = -1)\n",
    "accuracies1 = cross_val_score(estimator = classifier1, X = X_train, y = y_train, cv =\n",
    "10, n_jobs = -1)\n",
    "# Evaluating, Improving and Tuning the ANN\n",
    "# Evaluating the ANN\n",
    "mean = accuracies.mean()\n",
    "variance = accuracies.std()\n",
    "mean1 = accuracies1.mean()\n",
    "variance1 = accuracies1.std()\n",
    "print(mean, variance)\n",
    "print(mean1, variance1)"
   ]
  },
  {
   "cell_type": "markdown",
   "metadata": {},
   "source": [
    "batch_size = 5, epochs = 50: mean 0.83925 / variance 0.017474982117301287\n",
    "\n",
    "batch_size = 10, epochs = 100: mean 0.8455 / variance 0.021824584761227412"
   ]
  }
 ],
 "metadata": {
  "kernelspec": {
   "display_name": "Python 3",
   "language": "python",
   "name": "python3"
  },
  "language_info": {
   "codemirror_mode": {
    "name": "ipython",
    "version": 3
   },
   "file_extension": ".py",
   "mimetype": "text/x-python",
   "name": "python",
   "nbconvert_exporter": "python",
   "pygments_lexer": "ipython3",
   "version": "3.12.0"
  }
 },
 "nbformat": 4,
 "nbformat_minor": 2
}
